{
  "nbformat": 4,
  "nbformat_minor": 0,
  "metadata": {
    "colab": {
      "provenance": [],
      "authorship_tag": "ABX9TyPn2HJMMbmBrnBaNwvP6N3i",
      "include_colab_link": true
    },
    "kernelspec": {
      "name": "python3",
      "display_name": "Python 3"
    },
    "language_info": {
      "name": "python"
    }
  },
  "cells": [
    {
      "cell_type": "markdown",
      "metadata": {
        "id": "view-in-github",
        "colab_type": "text"
      },
      "source": [
        "<a href=\"https://colab.research.google.com/github/sanjibsinha/pythonforethicalhacking/blob/main/MoreStringMethods.ipynb\" target=\"_parent\"><img src=\"https://colab.research.google.com/assets/colab-badge.svg\" alt=\"Open In Colab\"/></a>"
      ]
    },
    {
      "cell_type": "code",
      "execution_count": 2,
      "metadata": {
        "id": "GcUzWALSITAO",
        "colab": {
          "base_uri": "https://localhost:8080/"
        },
        "outputId": "e8131f76-e099-4d7f-d93a-349360d6a594"
      },
      "outputs": [
        {
          "output_type": "stream",
          "name": "stdout",
          "text": [
            "10\n"
          ]
        }
      ],
      "source": [
        "str = \"Python    Programming\"\n",
        "new_str = str.index(\"Programming\")\n",
        "print(new_str)"
      ]
    },
    {
      "cell_type": "code",
      "source": [
        "str = \"#3455\"\n",
        "new_str = str.isalpha()\n",
        "print(new_str)"
      ],
      "metadata": {
        "colab": {
          "base_uri": "https://localhost:8080/"
        },
        "id": "OX1gts40ro0g",
        "outputId": "d2094710-dbe3-437a-a8f0-acc7efd35ac1"
      },
      "execution_count": 5,
      "outputs": [
        {
          "output_type": "stream",
          "name": "stdout",
          "text": [
            "False\n"
          ]
        }
      ]
    },
    {
      "cell_type": "code",
      "source": [
        "str = \"3455ccccc\"\n",
        "new_str = str.isdigit()\n",
        "print(new_str)"
      ],
      "metadata": {
        "colab": {
          "base_uri": "https://localhost:8080/"
        },
        "id": "QmqJccUNsOJ_",
        "outputId": "5374edf3-4efe-486b-b9a9-203d29195098"
      },
      "execution_count": 9,
      "outputs": [
        {
          "output_type": "stream",
          "name": "stdout",
          "text": [
            "False\n"
          ]
        }
      ]
    },
    {
      "cell_type": "code",
      "source": [
        "list = [\"Hello\", \"World\"]\n",
        "new_str = \" \".join(list)\n",
        "print(new_str)"
      ],
      "metadata": {
        "colab": {
          "base_uri": "https://localhost:8080/"
        },
        "id": "7ZL9DTzvs7WB",
        "outputId": "54b63f6e-1c43-4192-cbbe-0a03b7ced255"
      },
      "execution_count": 10,
      "outputs": [
        {
          "output_type": "stream",
          "name": "stdout",
          "text": [
            "Hello World\n"
          ]
        }
      ]
    },
    {
      "cell_type": "code",
      "source": [
        "str = \"   Hello World  mmm    \"\n",
        "new_str = str.lstrip()\n",
        "print(new_str)"
      ],
      "metadata": {
        "colab": {
          "base_uri": "https://localhost:8080/"
        },
        "id": "9jYBmIAetn-2",
        "outputId": "301449ca-d3a5-4e77-f35c-0bbf0102438a"
      },
      "execution_count": 13,
      "outputs": [
        {
          "output_type": "stream",
          "name": "stdout",
          "text": [
            "Hello World  mmm    \n"
          ]
        }
      ]
    },
    {
      "cell_type": "code",
      "source": [
        "str = \"Hello W0rld\"\n",
        "new_str = str.replace(\"0\", \"o\")\n",
        "print(new_str)"
      ],
      "metadata": {
        "colab": {
          "base_uri": "https://localhost:8080/"
        },
        "id": "iBtcdMYfuRpX",
        "outputId": "8ba7fb51-42d9-448f-cd8e-9f78983e9f8e"
      },
      "execution_count": 14,
      "outputs": [
        {
          "output_type": "stream",
          "name": "stdout",
          "text": [
            "Hello World\n"
          ]
        }
      ]
    },
    {
      "cell_type": "code",
      "source": [
        "str = \"    Hello World    \"\n",
        "new_str = str.rstrip()\n",
        "print(new_str)"
      ],
      "metadata": {
        "colab": {
          "base_uri": "https://localhost:8080/"
        },
        "id": "nFsPdOHau1xQ",
        "outputId": "cbd05f9b-b56f-4eae-8576-9e30308f173b"
      },
      "execution_count": 17,
      "outputs": [
        {
          "output_type": "stream",
          "name": "stdout",
          "text": [
            "    Hello World\n"
          ]
        }
      ]
    }
  ]
}