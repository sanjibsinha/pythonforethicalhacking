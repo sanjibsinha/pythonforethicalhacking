{
  "nbformat": 4,
  "nbformat_minor": 0,
  "metadata": {
    "colab": {
      "provenance": [],
      "authorship_tag": "ABX9TyO5Vry7yh2ur5kkali3/Ctj",
      "include_colab_link": true
    },
    "kernelspec": {
      "name": "python3",
      "display_name": "Python 3"
    },
    "language_info": {
      "name": "python"
    }
  },
  "cells": [
    {
      "cell_type": "markdown",
      "metadata": {
        "id": "view-in-github",
        "colab_type": "text"
      },
      "source": [
        "<a href=\"https://colab.research.google.com/github/sanjibsinha/pythonforethicalhacking/blob/main/Strings.ipynb\" target=\"_parent\"><img src=\"https://colab.research.google.com/assets/colab-badge.svg\" alt=\"Open In Colab\"/></a>"
      ]
    },
    {
      "cell_type": "code",
      "execution_count": 1,
      "metadata": {
        "colab": {
          "base_uri": "https://localhost:8080/"
        },
        "id": "NmYV4BOPrUKM",
        "outputId": "a3a315e6-4d80-4168-80f7-7ba6e66b3ecb"
      },
      "outputs": [
        {
          "output_type": "stream",
          "name": "stdout",
          "text": [
            "Hello World\n",
            "Hello World\n",
            "Hello John\n",
            " How are you?\n",
            "\n",
            "Hello\n",
            "World\n",
            "How are\n",
            "you?\n",
            "\n"
          ]
        }
      ],
      "source": [
        "print('Hello World')\n",
        "print(\"Hello World\")\n",
        "name = 'John'\n",
        "print(f'Hello {name}\\n How are you?')\n",
        "new_lines = '''\n",
        "Hello\n",
        "World\n",
        "How are\n",
        "you?\n",
        "'''\n",
        "print(new_lines)\n",
        "new_lines = \"\"\"\n",
        "\n",
        "\"\"\""
      ]
    }
  ]
}