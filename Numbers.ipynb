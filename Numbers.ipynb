{
  "nbformat": 4,
  "nbformat_minor": 0,
  "metadata": {
    "colab": {
      "provenance": [],
      "authorship_tag": "ABX9TyMuo9zSDXqYtndsZvkXSmQK",
      "include_colab_link": true
    },
    "kernelspec": {
      "name": "python3",
      "display_name": "Python 3"
    },
    "language_info": {
      "name": "python"
    }
  },
  "cells": [
    {
      "cell_type": "markdown",
      "metadata": {
        "id": "view-in-github",
        "colab_type": "text"
      },
      "source": [
        "<a href=\"https://colab.research.google.com/github/sanjibsinha/pythonforethicalhacking/blob/main/Numbers.ipynb\" target=\"_parent\"><img src=\"https://colab.research.google.com/assets/colab-badge.svg\" alt=\"Open In Colab\"/></a>"
      ]
    },
    {
      "cell_type": "code",
      "execution_count": 1,
      "metadata": {
        "colab": {
          "base_uri": "https://localhost:8080/"
        },
        "id": "5171MfitH5wQ",
        "outputId": "4c0e7d10-dab5-4b3b-9b47-cd5e615d8f41"
      },
      "outputs": [
        {
          "output_type": "stream",
          "name": "stdout",
          "text": [
            "3\n",
            "137587574178096\n",
            "<class 'int'>\n",
            "**************\n",
            "1.5\n",
            "137587147953904\n",
            "<class 'float'>\n",
            "**************\n",
            "2\n",
            "137587574178064\n",
            "<class 'int'>\n",
            "**************\n",
            "1\n",
            "137587574178032\n",
            "<class 'int'>\n",
            "**************\n",
            "4.666666666666667\n",
            "137587147953904\n",
            "<class 'float'>\n",
            "**************\n",
            "4.667\n",
            "137587160935504\n",
            "<class 'float'>\n",
            "**************\n",
            "6\n",
            "137587574178192\n",
            "<class 'int'>\n",
            "**************\n",
            "4\n",
            "137587574178128\n",
            "<class 'int'>\n",
            "**************\n",
            "23.0\n",
            "137587160935504\n",
            "<class 'float'>\n",
            "**************\n"
          ]
        }
      ],
      "source": [
        "x = 3\n",
        "print(x)\n",
        "print(id(x))\n",
        "print(type(x))\n",
        "print('**************')\n",
        "\n",
        "x = 3 / 2\n",
        "print(x)\n",
        "print(id(x))\n",
        "print(type(x))\n",
        "print('**************')\n",
        "\n",
        "y = round (x)\n",
        "print(y)\n",
        "print(id(y))\n",
        "print(type(y))\n",
        "print('**************')\n",
        "\n",
        "x = 3 // 2\n",
        "print(x)\n",
        "print(id(x))\n",
        "print(type(x))\n",
        "print('**************')\n",
        "\n",
        "x = 42 / 9\n",
        "print(x)\n",
        "print(id(x))\n",
        "print(type(x))\n",
        "print('**************')\n",
        "\n",
        "x = round(42 / 9, 3)\n",
        "print(x)\n",
        "print(id(x))\n",
        "print(type(x))\n",
        "print('**************')\n",
        "\n",
        "x = 42 % 9\n",
        "print(x)\n",
        "print(id(x))\n",
        "print(type(x))\n",
        "print('**************')\n",
        "\n",
        "x = int(42 / 9)\n",
        "print(x)\n",
        "print(id(x))\n",
        "print(type(x))\n",
        "print('**************')\n",
        "\n",
        "x = float(23)\n",
        "print(x)\n",
        "print(id(x))\n",
        "print(type(x))\n",
        "print('**************')"
      ]
    }
  ]
}