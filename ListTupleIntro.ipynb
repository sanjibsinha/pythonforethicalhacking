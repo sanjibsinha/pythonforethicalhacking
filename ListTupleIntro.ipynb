{
  "nbformat": 4,
  "nbformat_minor": 0,
  "metadata": {
    "colab": {
      "provenance": [],
      "authorship_tag": "ABX9TyPY70iuwbwspTFUx4NrIWVQ",
      "include_colab_link": true
    },
    "kernelspec": {
      "name": "python3",
      "display_name": "Python 3"
    },
    "language_info": {
      "name": "python"
    }
  },
  "cells": [
    {
      "cell_type": "markdown",
      "metadata": {
        "id": "view-in-github",
        "colab_type": "text"
      },
      "source": [
        "<a href=\"https://colab.research.google.com/github/sanjibsinha/pythonforethicalhacking/blob/main/ListTupleIntro.ipynb\" target=\"_parent\"><img src=\"https://colab.research.google.com/assets/colab-badge.svg\" alt=\"Open In Colab\"/></a>"
      ]
    },
    {
      "cell_type": "code",
      "execution_count": 1,
      "metadata": {
        "colab": {
          "base_uri": "https://localhost:8080/"
        },
        "id": "F53bAbg5HhYJ",
        "outputId": "172f1d2b-4619-455f-ab94-fcc039703302"
      },
      "outputs": [
        {
          "output_type": "stream",
          "name": "stdout",
          "text": [
            "(1, 78, 54, 90, 7)\n",
            "131957593040080\n",
            "<class 'tuple'>\n",
            "*********\n",
            "[1, 78, 54, 90, 7]\n",
            "131957438588096\n",
            "<class 'list'>\n"
          ]
        }
      ],
      "source": [
        "x = (1, 78, 54, 90, 7)\n",
        "print(x)\n",
        "print(id(x))\n",
        "print(type(x))\n",
        "\n",
        "print('*********')\n",
        "\n",
        "a = [1, 78, 54, 90, 7]\n",
        "print(a)\n",
        "print(id(a))\n",
        "print(type(a))"
      ]
    }
  ]
}