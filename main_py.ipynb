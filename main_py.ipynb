{
  "nbformat": 4,
  "nbformat_minor": 0,
  "metadata": {
    "colab": {
      "provenance": [],
      "authorship_tag": "ABX9TyOZZYQMiLvlmUBaOTd/dYBh",
      "include_colab_link": true
    },
    "kernelspec": {
      "name": "python3",
      "display_name": "Python 3"
    },
    "language_info": {
      "name": "python"
    }
  },
  "cells": [
    {
      "cell_type": "markdown",
      "metadata": {
        "id": "view-in-github",
        "colab_type": "text"
      },
      "source": [
        "<a href=\"https://colab.research.google.com/github/sanjibsinha/pythonforethicalhacking/blob/main/main_py.ipynb\" target=\"_parent\"><img src=\"https://colab.research.google.com/assets/colab-badge.svg\" alt=\"Open In Colab\"/></a>"
      ]
    },
    {
      "cell_type": "code",
      "execution_count": null,
      "metadata": {
        "colab": {
          "base_uri": "https://localhost:8080/"
        },
        "id": "y9tAwoC0kBwL",
        "outputId": "0bef3ca5-9613-4cd3-a16a-d6f32d0969e0"
      },
      "outputs": [
        {
          "output_type": "stream",
          "name": "stdout",
          "text": [
            "Hello\n"
          ]
        }
      ],
      "source": [
        "print('Hello')"
      ]
    },
    {
      "cell_type": "code",
      "source": [
        "def let_us_say_something():\n",
        "  print('Hello World')\n",
        "\n",
        "let_us_say_something()"
      ],
      "metadata": {
        "colab": {
          "base_uri": "https://localhost:8080/"
        },
        "id": "pfyAc0DPLmDI",
        "outputId": "1ef5e6b5-cff4-42fa-9309-d675d1cdaf23"
      },
      "execution_count": null,
      "outputs": [
        {
          "output_type": "stream",
          "name": "stdout",
          "text": [
            "Hello World\n"
          ]
        }
      ]
    },
    {
      "cell_type": "code",
      "source": [
        "name = 'Sanjib'\n",
        "print(name)\n",
        "print(type(name))\n",
        "print(id(name))\n",
        "num = 12\n",
        "print(num)\n",
        "print(type(num))\n",
        "print(id(num))\n",
        "is_it_true = True\n",
        "print(is_it_true)\n",
        "print(type(is_it_true))\n",
        "print(id(is_it_true))\n",
        "frac = 1.2\n",
        "print(frac)\n",
        "print(type(frac))\n",
        "print(id(frac))"
      ],
      "metadata": {
        "colab": {
          "base_uri": "https://localhost:8080/"
        },
        "id": "nfEzF2sgG6aa",
        "outputId": "e5536b4e-4d6b-45d3-baa8-f76a72db36dc"
      },
      "execution_count": 1,
      "outputs": [
        {
          "output_type": "stream",
          "name": "stdout",
          "text": [
            "Sanjib\n",
            "<class 'str'>\n",
            "138650100793584\n",
            "12\n",
            "<class 'int'>\n",
            "138650528137808\n",
            "True\n",
            "<class 'bool'>\n",
            "99661796946976\n",
            "1.2\n",
            "<class 'float'>\n",
            "138650115078064\n"
          ]
        }
      ]
    }
  ]
}