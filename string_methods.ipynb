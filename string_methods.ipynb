{
  "nbformat": 4,
  "nbformat_minor": 0,
  "metadata": {
    "colab": {
      "provenance": [],
      "authorship_tag": "ABX9TyNOZnTO1+90w8s3+qBlQEUZ",
      "include_colab_link": true
    },
    "kernelspec": {
      "name": "python3",
      "display_name": "Python 3"
    },
    "language_info": {
      "name": "python"
    }
  },
  "cells": [
    {
      "cell_type": "markdown",
      "metadata": {
        "id": "view-in-github",
        "colab_type": "text"
      },
      "source": [
        "<a href=\"https://colab.research.google.com/github/sanjibsinha/pythonforethicalhacking/blob/main/string_methods.ipynb\" target=\"_parent\"><img src=\"https://colab.research.google.com/assets/colab-badge.svg\" alt=\"Open In Colab\"/></a>"
      ]
    },
    {
      "cell_type": "code",
      "execution_count": 1,
      "metadata": {
        "colab": {
          "base_uri": "https://localhost:8080/"
        },
        "id": "yv93fvAsYX02",
        "outputId": "8d62f135-0e28-4321-e1c0-4e0ec2a059ea"
      },
      "outputs": [
        {
          "output_type": "stream",
          "name": "stdout",
          "text": [
            "Hello world\n"
          ]
        }
      ],
      "source": [
        "str = \"hello world\"\n",
        "new_str = str.capitalize()\n",
        "print(new_str)"
      ]
    },
    {
      "cell_type": "code",
      "source": [
        "str = \"python worlds\"\n",
        "new_str = str.center(40, '*')\n",
        "print(new_str)"
      ],
      "metadata": {
        "colab": {
          "base_uri": "https://localhost:8080/"
        },
        "id": "8aQAzrFfcFk9",
        "outputId": "f575ca61-c75f-4f11-9ba9-f7f5571af559"
      },
      "execution_count": 3,
      "outputs": [
        {
          "output_type": "stream",
          "name": "stdout",
          "text": [
            "*************python worlds**************\n"
          ]
        }
      ]
    },
    {
      "cell_type": "code",
      "source": [
        "str = \"hello python\"\n",
        "new_str = str.count(\"o\")\n",
        "print(new_str)"
      ],
      "metadata": {
        "colab": {
          "base_uri": "https://localhost:8080/"
        },
        "id": "5n6ghBDrdrE1",
        "outputId": "d2690771-febb-4668-fcd5-ceca4a91e123"
      },
      "execution_count": 4,
      "outputs": [
        {
          "output_type": "stream",
          "name": "stdout",
          "text": [
            "2\n"
          ]
        }
      ]
    },
    {
      "cell_type": "code",
      "source": [
        "str = \"HelloWorld\"\n",
        "new_str = str.endswith(\"World\")\n",
        "print(new_str)"
      ],
      "metadata": {
        "colab": {
          "base_uri": "https://localhost:8080/"
        },
        "id": "DTzpEdHXgOwz",
        "outputId": "77b69547-9789-4235-d5e1-8bcdecde2218"
      },
      "execution_count": 5,
      "outputs": [
        {
          "output_type": "stream",
          "name": "stdout",
          "text": [
            "True\n"
          ]
        }
      ]
    },
    {
      "cell_type": "code",
      "source": [
        "str = \"Python Programming here\"\n",
        "new_str = str.find(\"here\")\n",
        "print(new_str)\n"
      ],
      "metadata": {
        "colab": {
          "base_uri": "https://localhost:8080/"
        },
        "id": "-87w2wLShixJ",
        "outputId": "88269792-3289-4147-ed06-a6260e5134e7"
      },
      "execution_count": 6,
      "outputs": [
        {
          "output_type": "stream",
          "name": "stdout",
          "text": [
            "19\n"
          ]
        }
      ]
    },
    {
      "cell_type": "code",
      "source": [
        "name =\"Sanjib Sinha\"\n",
        "age = 100\n",
        "str = \"Hello my name is {name} and I am {age} years old.\".format(name=name, age=age)\n",
        "\n",
        "print(str)"
      ],
      "metadata": {
        "colab": {
          "base_uri": "https://localhost:8080/"
        },
        "id": "xnbf7OFUi8UT",
        "outputId": "cb97f7ae-56ab-4d4c-a2b6-979fe95e4857"
      },
      "execution_count": 7,
      "outputs": [
        {
          "output_type": "stream",
          "name": "stdout",
          "text": [
            "Hello my name is Sanjib Sinha and I am 100 years old.\n"
          ]
        }
      ]
    }
  ]
}