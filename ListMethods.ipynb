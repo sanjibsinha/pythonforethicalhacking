{
  "nbformat": 4,
  "nbformat_minor": 0,
  "metadata": {
    "colab": {
      "provenance": [],
      "authorship_tag": "ABX9TyODOewDQ8h170cliq01WhdM",
      "include_colab_link": true
    },
    "kernelspec": {
      "name": "python3",
      "display_name": "Python 3"
    },
    "language_info": {
      "name": "python"
    }
  },
  "cells": [
    {
      "cell_type": "markdown",
      "metadata": {
        "id": "view-in-github",
        "colab_type": "text"
      },
      "source": [
        "<a href=\"https://colab.research.google.com/github/sanjibsinha/pythonforethicalhacking/blob/main/ListMethods.ipynb\" target=\"_parent\"><img src=\"https://colab.research.google.com/assets/colab-badge.svg\" alt=\"Open In Colab\"/></a>"
      ]
    },
    {
      "cell_type": "code",
      "execution_count": 1,
      "metadata": {
        "colab": {
          "base_uri": "https://localhost:8080/"
        },
        "id": "TUfheVTY0l42",
        "outputId": "96fc5f1d-1cd5-4c30-d678-286ba74be987"
      },
      "outputs": [
        {
          "output_type": "stream",
          "name": "stdout",
          "text": [
            "Number of elements : 3\n"
          ]
        }
      ],
      "source": [
        "my_list = [\"apple\", \"banana\", \"mango\"]\n",
        "number_of_elements = len(my_list)\n",
        "print(f'Number of elements : {number_of_elements}')"
      ]
    },
    {
      "cell_type": "code",
      "source": [
        "my_list = [\"Banana\", \"Orange\", \"Mango\", \"Apple\"]\n",
        "my_list.sort()\n",
        "print(f'Sorted list : {my_list}')"
      ],
      "metadata": {
        "colab": {
          "base_uri": "https://localhost:8080/"
        },
        "id": "Y0A0jVW-2qv7",
        "outputId": "91e5926f-d333-48c0-89c2-69d40d654c90"
      },
      "execution_count": 4,
      "outputs": [
        {
          "output_type": "stream",
          "name": "stdout",
          "text": [
            "Sorted list : ['Apple', 'Banana', 'Mango', 'Orange']\n"
          ]
        }
      ]
    },
    {
      "cell_type": "code",
      "source": [
        "my_list = [\"Banana\", \"Orange\", \"Mango\", \"Apple\"]\n",
        "my_list.reverse()\n",
        "print(f'Reveresed List : {my_list}')"
      ],
      "metadata": {
        "colab": {
          "base_uri": "https://localhost:8080/"
        },
        "id": "yQX8esEi3AcI",
        "outputId": "97c20134-5f69-4d16-c759-81cc00b17a92"
      },
      "execution_count": 5,
      "outputs": [
        {
          "output_type": "stream",
          "name": "stdout",
          "text": [
            "Reveresed List : ['Apple', 'Mango', 'Orange', 'Banana']\n"
          ]
        }
      ]
    },
    {
      "cell_type": "code",
      "source": [
        "my_list = [\"apple\", \"banana\", \"orange\"]\n",
        "element_index = my_list.index(\"orange\")\n",
        "print(element_index)"
      ],
      "metadata": {
        "colab": {
          "base_uri": "https://localhost:8080/"
        },
        "id": "1b7G5ryB3QxM",
        "outputId": "52353147-45e9-4a90-f407-f8f8ffed82b5"
      },
      "execution_count": 7,
      "outputs": [
        {
          "output_type": "stream",
          "name": "stdout",
          "text": [
            "2\n"
          ]
        }
      ]
    },
    {
      "cell_type": "code",
      "source": [
        "my_list = [\"Banana\", \"Orange\", \"Mango\", \"Apple\", \"Banana\", \"Banana\"]\n",
        "element_count = my_list.count(\"Banana\")\n",
        "print(f'Number of counts : {element_count}')"
      ],
      "metadata": {
        "colab": {
          "base_uri": "https://localhost:8080/"
        },
        "id": "-naEQv6O4SKU",
        "outputId": "844df173-3f28-4b16-fdd3-dd810c38c8ea"
      },
      "execution_count": 9,
      "outputs": [
        {
          "output_type": "stream",
          "name": "stdout",
          "text": [
            "Number of counts : 3\n"
          ]
        }
      ]
    }
  ]
}